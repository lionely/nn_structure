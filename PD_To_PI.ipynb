{
 "cells": [
  {
   "cell_type": "code",
   "execution_count": 1,
   "metadata": {},
   "outputs": [],
   "source": [
    "import pandas as pd\n",
    "from persim import PersImage\n",
    "%matplotlib inline\n",
    "import matplotlib.pyplot as plt\n",
    "import time\n",
    "import numpy as np"
   ]
  },
  {
   "cell_type": "markdown",
   "metadata": {},
   "source": [
    "# Loading Persistence Diagrams $H_0$\n",
    "Remember to filter out **inf** point"
   ]
  },
  {
   "cell_type": "code",
   "execution_count": 2,
   "metadata": {},
   "outputs": [],
   "source": [
    "pds = []\n",
    "non_train_PATH = 'experiment_data/pd_intervals/not-trained/'#pd-model_0_ne-0.npz'\n",
    "train_PATH = 'experiment_data/pd_intervals/trained/'#pd-model_0_ne-5.npz'\n",
    "for i in range(50):\n",
    "    non_train_pd = np.load(non_train_PATH+'pd-model_'+str(i)+'_ne-0.npz')\n",
    "    pds.append(non_train_pd['pd'][0])\n",
    "for i in range(50):\n",
    "    train_pd = np.load(train_PATH+'pd-model_'+str(i)+'_ne-5.npz')\n",
    "    pds.append(train_pd['pd'][0])"
   ]
  },
  {
   "cell_type": "markdown",
   "metadata": {},
   "source": [
    "# Creating Persistence Images for $H_0$"
   ]
  },
  {
   "cell_type": "code",
   "execution_count": 53,
   "metadata": {},
   "outputs": [],
   "source": [
    "pims = []\n",
    "num_networks = 100\n",
    "for i in range(num_networks):\n",
    "    pim = PersImage(spread=0.15, pixels=[10,10], verbose=False)\n",
    "    img = pim.transform(pds[i][:-1])\n",
    "    label = \"not-trained\" if i<50 else \"trained\"\n",
    "    pims.append((img,label))"
   ]
  },
  {
   "cell_type": "code",
   "execution_count": 55,
   "metadata": {},
   "outputs": [],
   "source": [
    "np.savez('experiment_data/persistent_images/mnist_nn_pimgs',pimgs=pims)"
   ]
  },
  {
   "cell_type": "code",
   "execution_count": 57,
   "metadata": {},
   "outputs": [],
   "source": [
    "persist_images = np.load('experiment_data/persistent_images/mnist_nn_pimgs.npz')"
   ]
  },
  {
   "cell_type": "code",
   "execution_count": 157,
   "metadata": {},
   "outputs": [
    {
     "data": {
      "image/png": "[encoded data removed]",
      "text/plain": [
       "<Figure size 432x288 with 1 Axes>"
      ]
     },
     "metadata": {
      "needs_background": "light"
     },
     "output_type": "display_data"
    }
   ],
   "source": [
    "ax = plt.subplot(131)\n",
    "#plt.title(\"PI for $H_0$\\nwith 10x10 pixels\")\n",
    "pim.show(pims[0][0], ax)"
   ]
  },
  {
   "cell_type": "markdown",
   "metadata": {},
   "source": [
    "# Building a distance matrix "
   ]
  },
  {
   "cell_type": "code",
   "execution_count": 63,
   "metadata": {},
   "outputs": [],
   "source": [
    "from sklearn.metrics.pairwise import euclidean_distances"
   ]
  },
  {
   "cell_type": "code",
   "execution_count": 81,
   "metadata": {},
   "outputs": [
    {
     "name": "stdout",
     "output_type": "stream",
     "text": [
      "Elapsed Time: 0.0011316855748494466 minutes.\n"
     ]
    }
   ],
   "source": [
    "dist_mat = np.zeros((num_networks,num_networks))\n",
    "start = time.time()\n",
    "calculated = {}\n",
    "visited_pairs = set()\n",
    "for i in range(num_networks):\n",
    "    for j in range(num_networks):\n",
    "        if i == j:\n",
    "            dist_mat[i][j] = 0.\n",
    "        elif (i,j) not in visited_pairs and (j,i) not in visited_pairs:\n",
    "            visited_pairs.add((i,j))\n",
    "            visited_pairs.add((j,i))\n",
    "            dist = (pims[i][0]-pims[j][0])**2\n",
    "            dist = np.sum(dist)\n",
    "            dist = np.sqrt(dist)\n",
    "            dist_mat[i][j] = dist\n",
    "            calculated[(i,j)] = dist_mat[i][j]\n",
    "            calculated[(j,i)] = dist_mat[i][j]\n",
    "        else:\n",
    "            dist_mat[i][j] = calculated[(i,j)]\n",
    "end = time.time()\n",
    "elapsed = (end-start)/60.\n",
    "print(\"Elapsed Time: \"+str(elapsed)+\" minutes.\" )"
   ]
  },
  {
   "cell_type": "code",
   "execution_count": 84,
   "metadata": {},
   "outputs": [
    {
     "data": {
      "text/plain": [
       "<matplotlib.image.AxesImage at 0x7f26908c7780>"
      ]
     },
     "execution_count": 84,
     "metadata": {},
     "output_type": "execute_result"
    },
    {
     "data": {
      "image/png": "[encoded data removed]",
      "text/plain": [
       "<Figure size 432x288 with 1 Axes>"
      ]
     },
     "metadata": {
      "needs_background": "light"
     },
     "output_type": "display_data"
    }
   ],
   "source": [
    "# Visualizing Distance matrix\n",
    "plt.imshow(dist_mat)"
   ]
  },
  {
   "cell_type": "markdown",
   "metadata": {},
   "source": [
    "# Clustering our NN using the Distance Matrix"
   ]
  },
  {
   "cell_type": "code",
   "execution_count": 85,
   "metadata": {},
   "outputs": [],
   "source": [
    "from sklearn.cluster import KMeans\n",
    "#https://scikit-learn.org/stable/modules/generated/sklearn.cluster.KMeans.html#sklearn.cluster.KMeans"
   ]
  },
  {
   "cell_type": "code",
   "execution_count": 86,
   "metadata": {},
   "outputs": [],
   "source": [
    "kmeans = KMeans(n_clusters=2, random_state=423).fit(dist_mat)"
   ]
  },
  {
   "cell_type": "code",
   "execution_count": 89,
   "metadata": {},
   "outputs": [
    {
     "data": {
      "text/plain": [
       "array([1, 1, 1, 1, 1, 1, 1, 1, 1, 1, 1, 1, 1, 1, 1, 1, 1, 1, 1, 1, 1, 1,\n",
       "       1, 1, 1, 1, 1, 1, 1, 1, 1, 1, 1, 1, 1, 1, 1, 1, 1, 1, 1, 1, 1, 1,\n",
       "       1, 1, 1, 1, 1, 1, 0, 0, 0, 0, 0, 0, 0, 0, 0, 0, 0, 0, 0, 0, 0, 0,\n",
       "       0, 0, 0, 0, 0, 0, 0, 0, 0, 0, 0, 0, 0, 0, 0, 0, 0, 0, 0, 0, 0, 0,\n",
       "       0, 0, 0, 0, 0, 0, 0, 0, 0, 0, 0, 0], dtype=int32)"
      ]
     },
     "execution_count": 89,
     "metadata": {},
     "output_type": "execute_result"
    }
   ],
   "source": [
    "kmeans.labels_"
   ]
  },
  {
   "cell_type": "markdown",
   "metadata": {},
   "source": [
    "# Visualizing Clusters Using t-SNE"
   ]
  },
  {
   "cell_type": "code",
   "execution_count": 91,
   "metadata": {},
   "outputs": [],
   "source": [
    "from sklearn.manifold import TSNE"
   ]
  },
  {
   "cell_type": "code",
   "execution_count": 111,
   "metadata": {},
   "outputs": [
    {
     "data": {
      "text/plain": [
       "(100,)"
      ]
     },
     "execution_count": 111,
     "metadata": {},
     "output_type": "execute_result"
    }
   ],
   "source": [
    "pims[0][0].reshape(-1)"
   ]
  },
  {
   "cell_type": "code",
   "execution_count": 131,
   "metadata": {},
   "outputs": [],
   "source": [
    "X = np.array([])\n",
    "for image in pims:\n",
    "    X = np.append(X,image[0].reshape(-1))"
   ]
  },
  {
   "cell_type": "code",
   "execution_count": 132,
   "metadata": {},
   "outputs": [],
   "source": [
    "X = X.reshape(-1,100)"
   ]
  },
  {
   "cell_type": "code",
   "execution_count": 133,
   "metadata": {},
   "outputs": [],
   "source": [
    "X_embedded = TSNE(n_components=2).fit_transform(X)"
   ]
  },
  {
   "cell_type": "code",
   "execution_count": 141,
   "metadata": {},
   "outputs": [],
   "source": [
    "#X_embedded\n",
    "cluster_labels = []\n",
    "for cluster in kmeans.labels_:\n",
    "    if cluster == 1:\n",
    "        cluster_labels.append(\"not-trained\")\n",
    "    else:\n",
    "        cluster_labels.append(\"trained\")"
   ]
  },
  {
   "cell_type": "code",
   "execution_count": 143,
   "metadata": {},
   "outputs": [],
   "source": [
    "#cluster_labels"
   ]
  },
  {
   "cell_type": "code",
   "execution_count": 136,
   "metadata": {},
   "outputs": [],
   "source": [
    "#a4_dims = (11.7,11.7)"
   ]
  },
  {
   "cell_type": "code",
   "execution_count": 156,
   "metadata": {},
   "outputs": [
    {
     "data": {
      "image/png": "[encoded data removed]",
      "text/plain": [
       "<Figure size 432x288 with 1 Axes>"
      ]
     },
     "metadata": {
      "needs_background": "light"
     },
     "output_type": "display_data"
    }
   ],
   "source": [
    "# color for map\n",
    "#https://stackoverflow.com/questions/48512690/matplotlib-change-marker-color-based-on-label-value\n",
    "intent_legend = {'trained':'blue',\n",
    "                 'not-trained':'orange'}\n",
    "col2intent = {'blue':'trained',\n",
    "            'orange':'not-trained'}\n",
    "\n",
    "color= [intent_legend[cluster_labels[idx]] for idx in range(len(cluster_labels))]\n",
    "size = [2.5*len(color)]\n",
    "fig, ax = plt.subplots()\n",
    "for i in range(len(X_embedded)):\n",
    "    plt.scatter(x=X_embedded[i][0],\n",
    "                y=X_embedded[i][1],\n",
    "                c=color[i],\n",
    "                label=col2intent[color[i]],\n",
    "                   alpha=0.5,\n",
    "               s=size)\n",
    "# https://stackoverflow.com/questions/13588920/stop-matplotlib-repeating-labels-in-legend?noredirect=1&lq=1\n",
    "from collections import OrderedDict\n",
    "handles, labels = plt.gca().get_legend_handles_labels()\n",
    "by_label = OrderedDict(zip(labels, handles))\n",
    "#https://stackoverflow.com/questions/20048352/how-to-adjust-the-size-of-matplotlib-legend-box\n",
    "plt.legend(by_label.values(), by_label.keys(),borderpad=2,labelspacing=2,fontsize= 'medium') \n",
    "#ax.grid(True)\n",
    "plt.title('t-SNE Visualization of Presisent Images of Artificial Neural Networks')\n",
    "fig = ax.get_figure()\n",
    "fig.savefig(\"experiment_data/clustering/nn_cluster_pims.png\",bbox_inches=\"tight\",dpi=300)"
   ]
  },
  {
   "cell_type": "code",
   "execution_count": null,
   "metadata": {},
   "outputs": [],
   "source": []
  }
 ],
 "metadata": {
  "kernelspec": {
   "display_name": "Python 3",
   "language": "python",
   "name": "python3"
  },
  "language_info": {
   "codemirror_mode": {
    "name": "ipython",
    "version": 3
   },
   "file_extension": ".py",
   "mimetype": "text/x-python",
   "name": "python",
   "nbconvert_exporter": "python",
   "pygments_lexer": "ipython3",
   "version": "3.7.1"
  }
 },
 "nbformat": 4,
 "nbformat_minor": 2
}
